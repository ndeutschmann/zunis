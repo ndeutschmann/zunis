{
 "cells": [
  {
   "cell_type": "code",
   "execution_count": 53,
   "metadata": {},
   "outputs": [],
   "source": [
    "import pandas as pd\n",
    "import ruamel.yaml as yaml\n",
    "from copy import deepcopy as copy\n",
    "from pprint import pprint\n",
    "import os"
   ]
  },
  {
   "cell_type": "code",
   "execution_count": 33,
   "metadata": {},
   "outputs": [],
   "source": [
    "data = pd.read_csv(\"gaussian_camel_integrands.csv\")\n",
    "data[\"d\"] = data[\"d\"].astype(int)"
   ]
  },
  {
   "cell_type": "code",
   "execution_count": 47,
   "metadata": {},
   "outputs": [],
   "source": [
    "base = yaml.load(open(\"../benchmarks/benchmarks_01/camel/camel_grid_config.yaml\",'r'),Loader=yaml.Loader)\n",
    "del base[\"integrator_config_grid\"][\"n_points_survey\"]\n",
    "base[\"integrator_config_grid\"][\"n_hidden\"] = [2,4,8,16]\n",
    "base[\"integrator_config_grid\"][\"loss\"] = [\"variance\", \"dkl\"]\n",
    "base[\"experiment_name\"] = \"camel_scan_per_dim\""
   ]
  },
  {
   "cell_type": "code",
   "execution_count": 48,
   "metadata": {},
   "outputs": [
    {
     "name": "stdout",
     "output_type": "stream",
     "text": [
      "{'base_integrator_config': {'checkpoint_on_cuda': False,\n",
      "                            'masking': 'iflow',\n",
      "                            'minibatch_size': 20000,\n",
      "                            'n_bins': 50,\n",
      "                            'n_epochs': 50,\n",
      "                            'n_iter': 10,\n",
      "                            'n_points_survey': 100000,\n",
      "                            'repetitions': 1},\n",
      " 'dbname': 'benchmarks_01/benchmarks.db',\n",
      " 'debug': False,\n",
      " 'dimensions': [2, 4, 8, 16, 32],\n",
      " 'experiment_name': 'camel_scan_per_dim',\n",
      " 'integrand_params_grid': {'s': [0.1, 0.3, 0.5, 0.7]},\n",
      " 'integrator_config_grid': {'d_hidden': [64, 128, 256],\n",
      "                            'flow': ['pwlinear', 'pwquad'],\n",
      "                            'loss': ['variance', 'dkl'],\n",
      "                            'lr': [0.005, 0.001, 0.0005, 0.0001, 5e-05, 1e-05],\n",
      "                            'masking': ['iflow', 'checkerboard'],\n",
      "                            'n_bins': [2, 10, 50],\n",
      "                            'n_epochs': [2, 10, 50],\n",
      "                            'n_hidden': [2, 4, 8, 16]},\n",
      " 'keep_history': True}\n"
     ]
    }
   ],
   "source": [
    "pprint(base)"
   ]
  },
  {
   "cell_type": "code",
   "execution_count": 49,
   "metadata": {},
   "outputs": [],
   "source": [
    "dimensions = data[\"d\"].unique()\n",
    "sigma_camels = data.set_index([\"d\"])[\"sigma_camel\"]"
   ]
  },
  {
   "cell_type": "code",
   "execution_count": 50,
   "metadata": {},
   "outputs": [],
   "source": [
    "camel_configs = dict()\n",
    "for d in dimensions:\n",
    "    camel_configs[d] = copy(base)\n",
    "    camel_configs[d][\"dimensions\"] = [int(d)]\n",
    "    camel_configs[d][\"integrand_params_grid\"] = {'s': sigma_camels[d].to_list()}"
   ]
  },
  {
   "cell_type": "code",
   "execution_count": 51,
   "metadata": {},
   "outputs": [],
   "source": [
    "for d, config in camel_configs.items():\n",
    "    out_file = open(f\"../benchmarks/benchmarks_01/camel/camel_{d}d_grid_config.yaml\",'w+')\n",
    "    yaml.dump(config,out_file,Dumper=yaml.Dumper)\n",
    "    out_file.close()"
   ]
  },
  {
   "cell_type": "code",
   "execution_count": 54,
   "metadata": {},
   "outputs": [],
   "source": [
    "dimensions = data[\"d\"].unique()\n",
    "base[\"experiment_name\"] = \"gaussian_scan_per_dim\"\n",
    "sigma_gauss = data.set_index([\"d\"])[\"sigma_gauss\"]\n",
    "\n",
    "camel_configs = dict()\n",
    "for d in dimensions:\n",
    "    camel_configs[d] = copy(base)\n",
    "    camel_configs[d][\"dimensions\"] = [int(d)]\n",
    "    camel_configs[d][\"integrand_params_grid\"] = {'s': sigma_gauss[d].to_list()}\n",
    "    \n",
    "for d, config in camel_configs.items():\n",
    "    filename = f\"../benchmarks/benchmarks_01/gauss/gauss_{d}d_grid_config.yaml\"\n",
    "    os.makedirs(os.path.dirname(filename), exist_ok=True)\n",
    "    out_file = open(filename,'w+')\n",
    "    yaml.dump(config,out_file,Dumper=yaml.Dumper)\n",
    "    out_file.close()"
   ]
  }
 ],
 "metadata": {
  "kernelspec": {
   "display_name": "Python 3",
   "language": "python",
   "name": "python3"
  },
  "language_info": {
   "codemirror_mode": {
    "name": "ipython",
    "version": 3
   },
   "file_extension": ".py",
   "mimetype": "text/x-python",
   "name": "python",
   "nbconvert_exporter": "python",
   "pygments_lexer": "ipython3",
   "version": "3.7.7"
  }
 },
 "nbformat": 4,
 "nbformat_minor": 4
}
