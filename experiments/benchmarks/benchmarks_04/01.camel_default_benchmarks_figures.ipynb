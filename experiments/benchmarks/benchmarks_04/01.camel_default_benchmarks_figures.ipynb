{
 "cells": [
  {
   "cell_type": "code",
   "execution_count": 109,
   "id": "abroad-washington",
   "metadata": {},
   "outputs": [],
   "source": [
    "from pathlib import Path\n",
    "import sys\n",
    "import seaborn as sns\n",
    "import matplotlib.pyplot as plt\n",
    "import pandas as pd\n",
    "import numpy as np\n",
    "import matplotlib\n",
    "import torch\n",
    "\n",
    "from zunis.utils.config.loaders import get_default_integrator_config\n",
    "from zunis.utils.config.loaders import create_integrator_args\n",
    "from utils.integrands.camel import KnownSymmetricCamelIntegrand"
   ]
  },
  {
   "cell_type": "code",
   "execution_count": null,
   "id": "antique-pixel",
   "metadata": {},
   "outputs": [],
   "source": []
  },
  {
   "cell_type": "code",
   "execution_count": 2,
   "id": "mechanical-crown",
   "metadata": {},
   "outputs": [
    {
     "name": "stdout",
     "output_type": "stream",
     "text": [
      "/scratch/ndeutsch/zunis/zunis/experiments/benchmarks\n"
     ]
    }
   ],
   "source": [
    "here = Path('.').resolve()\n",
    "benchmarks = (here / '..').resolve()\n",
    "print(benchmarks)\n",
    "sys.path.append(str(benchmarks))\n",
    "\n",
    "plt.rcParams.update({\n",
    "    'font.size': 8,\n",
    "    'text.usetex': True,\n",
    "    'text.latex.preamble': r'\\usepackage{amsfonts}',\n",
    "    \"figure.figsize\": (6,4),\n",
    "    'figure.dpi':150\n",
    "})\n",
    "\n",
    "sns.set_theme()\n",
    "sns.set(font_scale=1.3)\n",
    "sns.set_style(\"whitegrid\")"
   ]
  },
  {
   "cell_type": "code",
   "execution_count": 3,
   "id": "similar-store",
   "metadata": {},
   "outputs": [],
   "source": [
    "from utils.data_storage.dataframe2sql import read_pkl_sql\n",
    "from utils.config.loaders import get_sql_types\n",
    "import sqlite3 as sql\n",
    "from sqlalchemy import PickleType\n"
   ]
  },
  {
   "cell_type": "code",
   "execution_count": 4,
   "id": "engaged-replica",
   "metadata": {},
   "outputs": [
    {
     "data": {
      "text/plain": [
       "[('camel_defaults',)]"
      ]
     },
     "execution_count": 4,
     "metadata": {},
     "output_type": "execute_result"
    }
   ],
   "source": [
    "con = sql.connect(\"benchmarks.db\")\n",
    "con.cursor().execute(\"SELECT name FROM sqlite_master where type = 'table'\").fetchall()"
   ]
  },
  {
   "cell_type": "code",
   "execution_count": 5,
   "id": "exceptional-lyric",
   "metadata": {},
   "outputs": [],
   "source": [
    "dtypes = get_sql_types()\n",
    "dtypes[\"value_history\"] = PickleType\n",
    "\n",
    "df = read_pkl_sql(\"benchmarks.db\", \"camel_defaults\", dtypes=dtypes)\n",
    "df.columns = df.columns.astype(str)\n",
    "df = df.loc[df.lr == 1.e-3]\n",
    "d_sigmas = pd.read_csv('../../exploration/gaussian_camel_integrands.csv')\n",
    "d_sigma_camel = d_sigmas[['d','sigma_camel','sigma_1d','relative_std_camel']].rename(columns=\n",
    "                                                                     {\n",
    "                                                                         \"sigma_camel\":'s',\n",
    "                                                                         'relative_std_camel':'relative_std'\n",
    "                                                                     })\n",
    "\n",
    "df = df.merge(d_sigma_camel,on=[\"d\",\"s\"],how=\"left\")"
   ]
  },
  {
   "cell_type": "code",
   "execution_count": 81,
   "id": "closing-helmet",
   "metadata": {
    "scrolled": false
   },
   "outputs": [],
   "source": [
    "cpts = df.groupby('d')['checkpoint_path'].max()\n",
    "cpts = cpts.apply(lambda x : ('..' / Path(x)).resolve())"
   ]
  },
  {
   "cell_type": "code",
   "execution_count": 88,
   "id": "sticky-boring",
   "metadata": {},
   "outputs": [
    {
     "data": {
      "text/plain": [
       "PosixPath('/scratch/ndeutsch/zunis/zunis/experiments/benchmarks/benchmarks_04/camel/camel8d.ckpt')"
      ]
     },
     "execution_count": 88,
     "metadata": {},
     "output_type": "execute_result"
    }
   ],
   "source": [
    "cpts[8]"
   ]
  },
  {
   "cell_type": "code",
   "execution_count": 22,
   "id": "reserved-marsh",
   "metadata": {},
   "outputs": [],
   "source": [
    "from zunis.integration import Integrator"
   ]
  },
  {
   "cell_type": "code",
   "execution_count": 63,
   "id": "excess-blend",
   "metadata": {},
   "outputs": [],
   "source": [
    "config = create_integrator_args(get_default_integrator_config())"
   ]
  },
  {
   "cell_type": "code",
   "execution_count": 68,
   "id": "piano-yesterday",
   "metadata": {},
   "outputs": [
    {
     "data": {
      "text/plain": [
       "{'flow': 'pwquad',\n",
       " 'loss': 'variance',\n",
       " 'n_points_survey': 10000,\n",
       " 'survey_strategy': 'adaptive_dkl',\n",
       " 'n_iter': 10,\n",
       " 'flow_options': {'masking': 'iflow',\n",
       "  'cell_params': {'d_hidden': 256, 'n_bins': 10, 'n_hidden': 8},\n",
       "  'masking_options': {'repetitions': 2}},\n",
       " 'trainer_options': {'minibatch_size': 1.0,\n",
       "  'max_reloads': 0,\n",
       "  'n_epochs': 50,\n",
       "  'checkpoint': True,\n",
       "  'checkpoint_on_cuda': True,\n",
       "  'checkpoint_path': None,\n",
       "  'optim': functools.partial(<class 'torch.optim.adam.Adam'>, betas=(0.9, 0.999), eps=1e-08, lr=0.001)}}"
      ]
     },
     "execution_count": 68,
     "metadata": {},
     "output_type": "execute_result"
    }
   ],
   "source": [
    "config"
   ]
  },
  {
   "cell_type": "code",
   "execution_count": null,
   "id": "indonesian-simple",
   "metadata": {},
   "outputs": [],
   "source": []
  },
  {
   "cell_type": "code",
   "execution_count": 111,
   "id": "departmental-messenger",
   "metadata": {},
   "outputs": [
    {
     "data": {
      "text/plain": [
       "0.5225006639951927"
      ]
     },
     "execution_count": 111,
     "metadata": {},
     "output_type": "execute_result"
    }
   ],
   "source": [
    "df.loc[df.d == 8].iloc[0]['s']"
   ]
  },
  {
   "cell_type": "code",
   "execution_count": 113,
   "id": "trained-cloud",
   "metadata": {},
   "outputs": [],
   "source": [
    "f = KnownSymmetricCamelIntegrand(d=8, s=df.loc[df.d == 8].iloc[0]['s'])\n",
    "integ = Integrator(d=8,f=f, **config)"
   ]
  },
  {
   "cell_type": "code",
   "execution_count": 114,
   "id": "varied-southwest",
   "metadata": {},
   "outputs": [
    {
     "data": {
      "text/plain": [
       "<All keys matched successfully>"
      ]
     },
     "execution_count": 114,
     "metadata": {},
     "output_type": "execute_result"
    }
   ],
   "source": [
    "integ.model_trainer.flow.load_state_dict(dd)"
   ]
  },
  {
   "cell_type": "code",
   "execution_count": 117,
   "id": "laughing-intranet",
   "metadata": {},
   "outputs": [
    {
     "data": {
      "text/plain": [
       "(0.0868079077738982,\n",
       " 1.0882541240134783e-05,\n",
       "     integral     error  n_points   phase\n",
       " 0   0.086820  0.000039    100000  refine\n",
       " 1   0.086762  0.000039    100000  refine\n",
       " 2   0.086855  0.000039    100000  refine\n",
       " 3   0.086873  0.000039    100000  refine\n",
       " 4   0.086819  0.000039    100000  refine\n",
       " 5   0.086735  0.000039    100000  refine\n",
       " 6   0.086824  0.000039    100000  refine\n",
       " 7   0.086753  0.000039    100000  refine\n",
       " 8   0.086814  0.000039    100000  refine\n",
       " 9   0.086836  0.000039    100000  refine\n",
       " 10  0.086825  0.000039    100000  refine\n",
       " 11  0.086761  0.000039    100000  refine\n",
       " 12  0.086826  0.000039    100000  refine)"
      ]
     },
     "execution_count": 117,
     "metadata": {},
     "output_type": "execute_result"
    }
   ],
   "source": [
    "integ.integrate(n_survey_steps=0, n_refine_steps=2)"
   ]
  },
  {
   "cell_type": "code",
   "execution_count": 104,
   "id": "related-coral",
   "metadata": {},
   "outputs": [],
   "source": [
    "p=integ.model_trainer.flow.parameters()"
   ]
  },
  {
   "cell_type": "code",
   "execution_count": 108,
   "id": "worth-circular",
   "metadata": {},
   "outputs": [
    {
     "data": {
      "text/plain": [
       "device(type='cpu')"
      ]
     },
     "execution_count": 108,
     "metadata": {},
     "output_type": "execute_result"
    }
   ],
   "source": [
    "next(p).device"
   ]
  },
  {
   "cell_type": "code",
   "execution_count": null,
   "id": "lasting-distribution",
   "metadata": {},
   "outputs": [],
   "source": []
  }
 ],
 "metadata": {
  "kernelspec": {
   "display_name": "Python 3",
   "language": "python",
   "name": "python3"
  },
  "language_info": {
   "codemirror_mode": {
    "name": "ipython",
    "version": 3
   },
   "file_extension": ".py",
   "mimetype": "text/x-python",
   "name": "python",
   "nbconvert_exporter": "python",
   "pygments_lexer": "ipython3",
   "version": "3.8.5"
  }
 },
 "nbformat": 4,
 "nbformat_minor": 5
}
