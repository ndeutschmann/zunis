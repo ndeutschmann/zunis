{
 "cells": [
  {
   "cell_type": "code",
   "execution_count": 20,
   "id": "abroad-washington",
   "metadata": {},
   "outputs": [],
   "source": [
    "from pathlib import Path\n",
    "import sys\n",
    "import seaborn as sns\n",
    "import matplotlib.pyplot as plt\n",
    "import pandas as pd\n",
    "import numpy as np\n",
    "import matplotlib\n",
    "import torch\n",
    "\n",
    "from zunis.utils.config.loaders import get_default_integrator_config\n",
    "from zunis.utils.config.loaders import create_integrator_args\n",
    "from utils.integrands.camel import KnownSymmetricCamelIntegrand\n",
    "from pprint import pprint"
   ]
  },
  {
   "cell_type": "code",
   "execution_count": 13,
   "id": "mechanical-crown",
   "metadata": {},
   "outputs": [
    {
     "name": "stdout",
     "output_type": "stream",
     "text": [
      "/scratch/ndeutsch/zunis/zunis/experiments/benchmarks\n"
     ]
    }
   ],
   "source": [
    "here = Path('.').resolve()\n",
    "benchmarks = (here / '..').resolve()\n",
    "print(benchmarks)\n",
    "sys.path.append(str(benchmarks))\n",
    "\n",
    "plt.rcParams.update({\n",
    "    'font.size': 8,\n",
    "    'text.usetex': True,\n",
    "    'text.latex.preamble': r'\\usepackage{amsfonts}',\n",
    "    \"figure.figsize\": (6,4),\n",
    "    'figure.dpi':150\n",
    "})\n",
    "\n",
    "sns.set_theme()\n",
    "sns.set(font_scale=1.3)\n",
    "sns.set_style(\"whitegrid\")"
   ]
  },
  {
   "cell_type": "code",
   "execution_count": 14,
   "id": "similar-store",
   "metadata": {},
   "outputs": [],
   "source": [
    "from utils.data_storage.dataframe2sql import read_pkl_sql\n",
    "from utils.config.loaders import get_sql_types\n",
    "import sqlite3 as sql\n",
    "from sqlalchemy import PickleType\n"
   ]
  },
  {
   "cell_type": "code",
   "execution_count": 15,
   "id": "engaged-replica",
   "metadata": {},
   "outputs": [
    {
     "data": {
      "text/plain": [
       "[('camel_defaults',)]"
      ]
     },
     "execution_count": 15,
     "metadata": {},
     "output_type": "execute_result"
    }
   ],
   "source": [
    "con = sql.connect(\"benchmarks.db\")\n",
    "con.cursor().execute(\"SELECT name FROM sqlite_master where type = 'table'\").fetchall()"
   ]
  },
  {
   "cell_type": "code",
   "execution_count": 18,
   "id": "exceptional-lyric",
   "metadata": {},
   "outputs": [],
   "source": [
    "dtypes = get_sql_types()\n",
    "dtypes[\"value_history\"] = PickleType\n",
    "\n",
    "df = read_pkl_sql(\"benchmarks.db\", \"camel_defaults\", dtypes=dtypes)\n",
    "df.columns = df.columns.astype(str)\n",
    "d_sigmas = pd.read_csv('../../exploration/gaussian_camel_integrands.csv')\n",
    "d_sigma_camel = d_sigmas[['d','sigma_camel','sigma_1d','relative_std_camel']].rename(columns=\n",
    "                                                                     {\n",
    "                                                                         \"sigma_camel\":'s',\n",
    "                                                                         'relative_std_camel':'relative_std'\n",
    "                                                                     })\n",
    "\n",
    "df = df.merge(d_sigma_camel,on=[\"d\",\"s\"],how=\"left\")"
   ]
  },
  {
   "cell_type": "code",
   "execution_count": null,
   "id": "appropriate-victim",
   "metadata": {},
   "outputs": [],
   "source": []
  }
 ],
 "metadata": {
  "kernelspec": {
   "display_name": "Python 3",
   "language": "python",
   "name": "python3"
  },
  "language_info": {
   "codemirror_mode": {
    "name": "ipython",
    "version": 3
   },
   "file_extension": ".py",
   "mimetype": "text/x-python",
   "name": "python",
   "nbconvert_exporter": "python",
   "pygments_lexer": "ipython3",
   "version": "3.8.10"
  }
 },
 "nbformat": 4,
 "nbformat_minor": 5
}
